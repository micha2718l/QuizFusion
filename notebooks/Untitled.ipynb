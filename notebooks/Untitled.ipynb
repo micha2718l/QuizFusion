{
 "cells": [
  {
   "cell_type": "code",
   "execution_count": null,
   "id": "0ee22d29-51ec-4122-8079-54bac8305476",
   "metadata": {},
   "outputs": [],
   "source": [
    "import nbconvert\n",
    "from nbconvert import HTMLExporter\n",
    "import nbformat\n",
    "\n",
    "# Path to your notebook\n",
    "notebook_filename = 'kinematics.ipynb'\n",
    "output_filename = 'kinematics.html'\n",
    "\n",
    "# Load the notebook\n",
    "with open(notebook_filename, 'r', encoding='utf-8') as f:\n",
    "    notebook = nbformat.read(f, as_version=4)\n",
    "\n",
    "# Convert the notebook to HTML\n",
    "html_exporter = HTMLExporter()\n",
    "body, resources = html_exporter.from_notebook_node(notebook)\n",
    "\n",
    "# Write the output to an HTML file\n",
    "with open(output_filename, 'w', encoding='utf-8') as f:\n",
    "    f.write(body)\n",
    "\n",
    "print(f\"Notebook converted to {output_filename}\")\n"
   ]
  }
 ],
 "metadata": {
  "kernelspec": {
   "display_name": "Python 3 (ipykernel)",
   "language": "python",
   "name": "python3"
  },
  "language_info": {
   "codemirror_mode": {
    "name": "ipython",
    "version": 3
   },
   "file_extension": ".py",
   "mimetype": "text/x-python",
   "name": "python",
   "nbconvert_exporter": "python",
   "pygments_lexer": "ipython3",
   "version": "3.12.4"
  }
 },
 "nbformat": 4,
 "nbformat_minor": 5
}
