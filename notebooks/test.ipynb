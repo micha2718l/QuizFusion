{
 "cells": [
  {
   "cell_type": "code",
   "execution_count": 5,
   "metadata": {},
   "outputs": [],
   "source": [
    "import sympy as sp\n",
    "import numpy as np\n",
    "import matplotlib.pyplot as plt"
   ]
  },
  {
   "cell_type": "markdown",
   "metadata": {},
   "source": [
    "# jkfddfsdfdsf\n"
   ]
  },
  {
   "cell_type": "markdown",
   "metadata": {},
   "source": [
    "<div style=\"\n",
    "    background: blue;\n",
    "    border: 2px solid black; \n",
    "    width: 100%; \n",
    "    box-sizing: border-box; \n",
    "    line-height: 1.5em; \n",
    "    height: calc(1.5em * 5);\">\n",
    "    <!-- Content goes here -->\n",
    "    hello\n",
    "</div>"
   ]
  },
  {
   "cell_type": "code",
   "execution_count": 9,
   "metadata": {
    "tags": [
     "problem"
    ]
   },
   "outputs": [
    {
     "data": {
      "text/markdown": [
       "$\\frac{Joseph}{Fourier}$ tosses a stone of mass of $0.65\\mathrm{kg}$ with a speed of 26.8m/s at an angle of 18.3 degrees above the horizontal towards a wall that is 30.5m away."
      ],
      "text/plain": [
       "<IPython.core.display.Markdown object>"
      ]
     },
     "metadata": {},
     "output_type": "display_data"
    }
   ],
   "source": [
    "from IPython.display import HTML, Latex, Markdown, display\n",
    "l = Markdown(r\"$\\frac{Joseph}{Fourier}$ tosses a stone of mass of $0.65\\mathrm{kg}$ with a speed of 26.8m/s at an angle of 18.3 degrees above the horizontal towards a wall that is 30.5m away.\")\n",
    "display(l)"
   ]
  },
  {
   "cell_type": "code",
   "execution_count": null,
   "metadata": {},
   "outputs": [],
   "source": []
  }
 ],
 "metadata": {
  "kernelspec": {
   "display_name": ".venv-main",
   "language": "python",
   "name": "python3"
  },
  "language_info": {
   "codemirror_mode": {
    "name": "ipython",
    "version": 3
   },
   "file_extension": ".py",
   "mimetype": "text/x-python",
   "name": "python",
   "nbconvert_exporter": "python",
   "pygments_lexer": "ipython3",
   "version": "3.12.5"
  }
 },
 "nbformat": 4,
 "nbformat_minor": 2
}
