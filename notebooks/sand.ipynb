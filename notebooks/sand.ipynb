{
 "cells": [
  {
   "cell_type": "code",
   "execution_count": 1,
   "metadata": {},
   "outputs": [],
   "source": [
    "from utils import *"
   ]
  },
  {
   "cell_type": "code",
   "execution_count": 8,
   "metadata": {},
   "outputs": [
    {
     "name": "stdout",
     "output_type": "stream",
     "text": [
      "'dog_year' is not defined in the unit registry\n"
     ]
    }
   ],
   "source": [
    "#ureg.define('dog_year = 52 * day = dy')\n",
    "try:\n",
    "    a = Value(23, ureg('dog_year'))\n",
    "except Exception as e:\n",
    "    print(e)\n"
   ]
  },
  {
   "cell_type": "code",
   "execution_count": 16,
   "metadata": {},
   "outputs": [
    {
     "data": {
      "text/html": [
       "23 year"
      ],
      "text/latex": [
       "$23\\ \\mathrm{year}$"
      ],
      "text/plain": [
       "$23.0 year$"
      ]
     },
     "execution_count": 16,
     "metadata": {},
     "output_type": "execute_result"
    }
   ],
   "source": [
    "class ValueInheritFrom(pint.Quantity):\n",
    "    def __repr__(self):\n",
    "        unit = self.units\n",
    "        if type(unit) is pint.Unit:\n",
    "            match self.unit:\n",
    "                case ureg.degree:\n",
    "                    unit = r\"^\\circ\"\n",
    "                case _:\n",
    "                    unit = f\"{unit:~L}\"\n",
    "        \n",
    "        return f\"${self.magnitude:#.{3}g} {unit}$\"\n",
    "    def __str__(self):\n",
    "        return self.__repr__()\n",
    "\n",
    "a = ValueInheritFrom(23, ureg('year'))\n",
    "a"
   ]
  },
  {
   "cell_type": "code",
   "execution_count": 17,
   "metadata": {},
   "outputs": [
    {
     "data": {
      "image/png": "[encoded data removed]",
      "text/latex": [
       "$\\displaystyle 1.20048019207683$"
      ],
      "text/plain": [
       "1.2004801920768309"
      ]
     },
     "execution_count": 17,
     "metadata": {},
     "output_type": "execute_result"
    }
   ],
   "source": [
    "1/0.833"
   ]
  },
  {
   "cell_type": "code",
   "execution_count": null,
   "metadata": {},
   "outputs": [],
   "source": []
  }
 ],
 "metadata": {
  "kernelspec": {
   "display_name": ".main312",
   "language": "python",
   "name": "python3"
  },
  "language_info": {
   "codemirror_mode": {
    "name": "ipython",
    "version": 3
   },
   "file_extension": ".py",
   "mimetype": "text/x-python",
   "name": "python",
   "nbconvert_exporter": "python",
   "pygments_lexer": "ipython3",
   "version": "3.12.4"
  }
 },
 "nbformat": 4,
 "nbformat_minor": 2
}
