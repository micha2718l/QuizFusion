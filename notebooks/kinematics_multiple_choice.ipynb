{
  "cells": [
    {
      "cell_type": "code",
      "execution_count": 1,
      "metadata": {
        "id": "wXCPia2cXnR5"
      },
      "outputs": [],
      "source": [
        "from utils import *\n",
        "multiple_choices = []\n",
        "problems = []\n",
        "%matplotlib agg"
      ]
    },
    {
      "cell_type": "code",
      "execution_count": 2,
      "metadata": {},
      "outputs": [],
      "source": [
        "sig_figs = 3\n",
        "number = Value(np.pi, pre_zeros=3, sigfigs=sig_figs)\n",
        "statement = f\"How many significant figures are in the number {number}?\"\n",
        "choices = [Choice(i, sig_figs == i) for i in range(2, 6)]\n",
        "multiple_choices.append(MultipleChoice(statement, choices))\n",
        "#nbprint(multiple_choices[-1])"
      ]
    },
    {
      "cell_type": "code",
      "execution_count": 3,
      "metadata": {},
      "outputs": [],
      "source": [
        "statement = \"For general projectile motion, which of the following best describes the horizontal and vertical components of a projectile's acceleration? (assume air resistances is negligible):\"\n",
        "choices = [\n",
        "    Choice(\"$a_x = 0$, $a_y = -g$\", True),\n",
        "    Choice(\"$a_x = -g$, $a_y = 0$\"),\n",
        "    Choice(\"$a_x = 0$,  $a_y = g$\"),\n",
        "    Choice(\"$a_x = g$,  $a_y = 0$\"),\n",
        "]\n",
        "multiple_choices.append(MultipleChoice(statement, choices))\n",
        "#nbprint(multiple_choices[-1])"
      ]
    },
    {
      "cell_type": "code",
      "execution_count": 4,
      "metadata": {},
      "outputs": [],
      "source": [
        "statement = \"A red water balloon is thrown horizontally from the top of a bridge. At the same instant, a yellow water balloon is dropped off the bridge from the same height. Compare the time of fall for the two balloons. Assume air resistance is negligible.\"\n",
        "choices = [\n",
        "    Choice(\"The red balloon will hit the ground first.\"),\n",
        "    Choice(\"The yellow balloon will hit the ground first.\"),\n",
        "    Choice(\"Both balloons will hit the ground at the same time.\", True),\n",
        "    Choice(\"It is impossible to determine without more information.\"),\n",
        "]\n",
        "multiple_choices.append(MultipleChoice(statement, choices))\n",
        "#nbprint(multiple_choices[-1])"
      ]
    },
    {
      "cell_type": "code",
      "execution_count": 5,
      "metadata": {},
      "outputs": [
        {
          "data": {
            "text/markdown": [
              "### How many significant figures are in the number $0003.14 $?\n",
              "\n",
              "<ol type='a'>\n",
              "<li>\n",
              "\n",
              " 2 \n",
              "\n",
              "</li> \n",
              "<li>\n",
              "\n",
              " 3 \n",
              "\n",
              "</li> \n",
              "<li>\n",
              "\n",
              " 4 \n",
              "\n",
              "</li> \n",
              "<li>\n",
              "\n",
              " 5 \n",
              "\n",
              "</li> \n",
              "</ol>\n"
            ],
            "text/plain": [
              "<IPython.core.display.Markdown object>"
            ]
          },
          "metadata": {},
          "output_type": "display_data"
        },
        {
          "data": {
            "text/markdown": [
              "### For general projectile motion, which of the following best describes the horizontal and vertical components of a projectile's acceleration? (assume air resistances is negligible):\n",
              "\n",
              "<ol type='a'>\n",
              "<li>\n",
              "\n",
              " $a_x = 0$, $a_y = -g$ \n",
              "\n",
              "</li> \n",
              "<li>\n",
              "\n",
              " $a_x = -g$, $a_y = 0$ \n",
              "\n",
              "</li> \n",
              "<li>\n",
              "\n",
              " $a_x = 0$,  $a_y = g$ \n",
              "\n",
              "</li> \n",
              "<li>\n",
              "\n",
              " $a_x = g$,  $a_y = 0$ \n",
              "\n",
              "</li> \n",
              "</ol>\n"
            ],
            "text/plain": [
              "<IPython.core.display.Markdown object>"
            ]
          },
          "metadata": {},
          "output_type": "display_data"
        },
        {
          "data": {
            "text/markdown": [
              "### A red water balloon is thrown horizontally from the top of a bridge. At the same instant, a yellow water balloon is dropped off the bridge from the same height. Compare the time of fall for the two balloons. Assume air resistance is negligible.\n",
              "\n",
              "<ol type='a'>\n",
              "<li>\n",
              "\n",
              " The red balloon will hit the ground first. \n",
              "\n",
              "</li> \n",
              "<li>\n",
              "\n",
              " The yellow balloon will hit the ground first. \n",
              "\n",
              "</li> \n",
              "<li>\n",
              "\n",
              " Both balloons will hit the ground at the same time. \n",
              "\n",
              "</li> \n",
              "<li>\n",
              "\n",
              " It is impossible to determine without more information. \n",
              "\n",
              "</li> \n",
              "</ol>\n"
            ],
            "text/plain": [
              "<IPython.core.display.Markdown object>"
            ]
          },
          "metadata": {},
          "output_type": "display_data"
        }
      ],
      "source": [
        "for mc in multiple_choices:\n",
        "    nbprint(mc)"
      ]
    },
    {
      "cell_type": "code",
      "execution_count": 6,
      "metadata": {},
      "outputs": [
        {
          "data": {
            "text/markdown": [
              "The figure shows the velocity versus time graph for a car driving on a straight road. Which of the following best describes the acceleration of the car?"
            ],
            "text/plain": [
              "<IPython.core.display.Markdown object>"
            ]
          },
          "metadata": {},
          "output_type": "display_data"
        },
        {
          "data": {
            "image/png": "[encoded data removed]",
            "text/plain": [
              "<Figure size 640x480 with 1 Axes>"
            ]
          },
          "metadata": {},
          "output_type": "display_data"
        }
      ],
      "source": [
        "import numpy as np\n",
        "import matplotlib.pyplot as plt\n",
        "\n",
        "statement = \"The figure shows the velocity versus time graph for a car driving on a straight road. Which of the following best describes the acceleration of the car?\"\n",
        "\n",
        "def make_plot(acceleration_sign='pos', acceleration_derivative='pos'):\n",
        "    t = np.linspace(0, 10, 100)\n",
        "    \n",
        "    # Initialize acceleration\n",
        "    if acceleration_sign == 'pos':\n",
        "        if acceleration_derivative == 'pos':\n",
        "            a = 0.2 * t  # increasing positive acceleration\n",
        "        else:\n",
        "            a = 2 - 0.2 * t  # decreasing positive acceleration\n",
        "    else:\n",
        "        if acceleration_derivative == 'pos':\n",
        "            a = -0.2 * t  # increasing negative acceleration (more negative over time)\n",
        "        else:\n",
        "            a = -2 + 0.2 * t  # decreasing negative acceleration (less negative over time)\n",
        "\n",
        "    # Calculate velocity based on the acceleration\n",
        "    v = np.cumsum(a) * (t[1] - t[0])  # Integrate acceleration to get velocity\n",
        "\n",
        "    # Plot the graph\n",
        "    fig, ax = plt.subplots()\n",
        "    ax.plot(t, v, label='v(t) (velocity)', color='blue')\n",
        "    ax.set_xlabel('Time (s)')\n",
        "    ax.set_ylabel('Velocity (m/s)')\n",
        "    ax.legend()\n",
        "    ax.grid(True)\n",
        "    fig.suptitle(\"Velocity vs Time\")\n",
        "    \n",
        "    return fig\n",
        "\n",
        "# Example usage: Plot positive acceleration that is decreasing\n",
        "fig = make_plot(acceleration_sign='neg', acceleration_derivative='pos')\n",
        "\n",
        "nbprint(statement)\n",
        "display(fig)"
      ]
    },
    {
      "cell_type": "code",
      "execution_count": 7,
      "metadata": {
        "colab": {
          "base_uri": "https://localhost:8080/",
          "height": 427
        },
        "id": "E14TWjn4sYhs",
        "outputId": "c9331d91-7116-4676-e8e7-900e91d1109a"
      },
      "outputs": [],
      "source": [
        "v_i = Value(26.8, ureg.meter / ureg.second)\n",
        "theta_i = Value(18.3, ureg.degree)\n",
        "x_f = Value(30.5, ureg.meter)\n",
        "mass = Value(0.43, ureg.kilogram)\n",
        "\n",
        "statement = fr\"Joseph Fourier tosses a stone of mass of {mass} with a speed of {v_i} at an angle of {theta_i} degrees above the horizontal towards a wall that is {x_f} away.\"\n",
        "\n",
        "questions = [\n",
        "    Question(\"Create and draw a well labeled diagram of the situation. Be sure to include all known and unknown quantities.\", 3, 'medium'),\n",
        "    Question(\"Resolve the initial velocity into $x$ and $y$ components:\", 3, 'medium'),\n",
        "    Question(\"What is the time ($t$) taken for the stone to hit the wall?\", 3, 'medium'),\n",
        "    Question(\"What is the height of the stone when it hits the wall?\", 3, 'medium'),\n",
        "]\n",
        "\n",
        "problems.append(Problem(statement, questions, number=1))\n",
        "\n",
        "#nbprint(problems[-1])\n"
      ]
    },
    {
      "cell_type": "code",
      "execution_count": 8,
      "metadata": {
        "colab": {
          "base_uri": "https://localhost:8080/",
          "height": 172
        },
        "id": "ZZnj96acs15t",
        "outputId": "b61a3f26-ad9f-4b83-a495-ac030b67345f"
      },
      "outputs": [],
      "source": [
        "ureg.define('blark = 0.592 yard')\n",
        "one_blark = Value(1, 'blark')\n",
        "\n",
        "ureg.define('zoomer = 1/0.833 hour')\n",
        "one_zoomer = Value(1, 'zoomer')\n",
        "\n",
        "a = Value(2.45, ureg.blark / ureg.zoomer)\n",
        "\n",
        "statement = fr\"Quinn accelerates at a rate of {a}.\"\n",
        "questions = [\n",
        "    Question(fr\"Determine Quinn's acceleration in ${ureg('m/s').units:~L}$.\", 3, 'medium'),\n",
        "]\n",
        "extras = [\n",
        "    fr\"{one_blark} $=$ {one_blark.to('yard')}\",\n",
        "    fr\"{one_zoomer} $=$ {one_zoomer.to('hour')}\",\n",
        "]\n",
        "\n",
        "problems.append(Problem(statement, questions, number=2, extras=extras))\n",
        "\n",
        "#nbprint(problems[-1])"
      ]
    },
    {
      "cell_type": "code",
      "execution_count": 9,
      "metadata": {},
      "outputs": [],
      "source": [
        "\n",
        "a = Value(2.45, ureg.blark / ureg.zoomer)\n",
        "\n",
        "mass = Value(97.1, \"kg\")\n",
        "x = Value(36.6, \"m\")\n",
        "v_f = Value(8.02, \"m/s\")\n",
        "\n",
        "statement = fr\"Alvin Kamara has a mass of {mass} and ran {x}, accelerating to a speed of {v_f}.\"\n",
        "questions = [\n",
        "    Question(fr\"Determine Alvin's acceleration.\", 3, 'medium'),\n",
        "    Question(fr\"Determine Alvin's time in the {x} dash.\", 3, 'medium'),\n",
        "]\n",
        "\n",
        "problems.append(Problem(statement, questions, number=3))\n",
        "\n",
        "#nbprint(problems[-1])"
      ]
    },
    {
      "cell_type": "code",
      "execution_count": 10,
      "metadata": {},
      "outputs": [
        {
          "data": {
            "text/markdown": [
              "# Problem #1 (12 Points)\n",
              "## Joseph Fourier tosses a stone of mass of $0.430 \\mathrm{kg}$ with a speed of $26.8 \\frac{\\mathrm{m}}{\\mathrm{s}}$ at an angle of $18.3 ^\\circ$ degrees above the horizontal towards a wall that is $30.5 \\mathrm{m}$ away.\n",
              "\n",
              "\n",
              "<div class='question'>Question 1 (3 Points)\n",
              "\n",
              "Create and draw a well labeled diagram of the situation. Be sure to include all known and unknown quantities.\n",
              "\n",
              "\n",
              "<div style=\"\n",
              "    border: 2px solid black;\n",
              "    width: 100%;\n",
              "    box-sizing: border-box;\n",
              "    line-height: 1em;\n",
              "    height: calc(1em * 10);\n",
              "    page-break-inside: avoid;\">\n",
              "    <!-- Content goes here -->\n",
              "</div>\n",
              "\n",
              "</div>\n",
              "\n",
              "<div class='question'>Question 2 (3 Points)\n",
              "\n",
              "Resolve the initial velocity into $x$ and $y$ components:\n",
              "\n",
              "\n",
              "<div style=\"\n",
              "    border: 2px solid black;\n",
              "    width: 100%;\n",
              "    box-sizing: border-box;\n",
              "    line-height: 1em;\n",
              "    height: calc(1em * 10);\n",
              "    page-break-inside: avoid;\">\n",
              "    <!-- Content goes here -->\n",
              "</div>\n",
              "\n",
              "</div>\n",
              "\n",
              "<div class='question'>Question 3 (3 Points)\n",
              "\n",
              "What is the time ($t$) taken for the stone to hit the wall?\n",
              "\n",
              "\n",
              "<div style=\"\n",
              "    border: 2px solid black;\n",
              "    width: 100%;\n",
              "    box-sizing: border-box;\n",
              "    line-height: 1em;\n",
              "    height: calc(1em * 10);\n",
              "    page-break-inside: avoid;\">\n",
              "    <!-- Content goes here -->\n",
              "</div>\n",
              "\n",
              "</div>\n",
              "\n",
              "<div class='question'>Question 4 (3 Points)\n",
              "\n",
              "What is the height of the stone when it hits the wall?\n",
              "\n",
              "\n",
              "<div style=\"\n",
              "    border: 2px solid black;\n",
              "    width: 100%;\n",
              "    box-sizing: border-box;\n",
              "    line-height: 1em;\n",
              "    height: calc(1em * 10);\n",
              "    page-break-inside: avoid;\">\n",
              "    <!-- Content goes here -->\n",
              "</div>\n",
              "\n",
              "</div>"
            ],
            "text/plain": [
              "<IPython.core.display.Markdown object>"
            ]
          },
          "metadata": {},
          "output_type": "display_data"
        },
        {
          "data": {
            "text/markdown": [
              "# Problem #2 (3 Points)\n",
              "## Quinn accelerates at a rate of $2.45 \\frac{\\mathrm{blark}}{\\mathrm{zoomer}}$.\n",
              "<div>Extra information</div>\n",
              "\n",
              "<ol type='a'>\n",
              "<li>\n",
              "\n",
              " $1.00 \\mathrm{blark}$ $=$ $0.592 \\mathrm{yd}$ \n",
              "\n",
              "</li> \n",
              "<li>\n",
              "\n",
              " $1.00 \\mathrm{zoomer}$ $=$ $1.20 \\mathrm{h}$ \n",
              "\n",
              "</li> \n",
              "</ol>\n",
              "\n",
              "\n",
              "<div class='question'>Question 1 (3 Points)\n",
              "\n",
              "Determine Quinn's acceleration in $\\frac{\\mathrm{m}}{\\mathrm{s}}$.\n",
              "\n",
              "\n",
              "<div style=\"\n",
              "    border: 2px solid black;\n",
              "    width: 100%;\n",
              "    box-sizing: border-box;\n",
              "    line-height: 1em;\n",
              "    height: calc(1em * 10);\n",
              "    page-break-inside: avoid;\">\n",
              "    <!-- Content goes here -->\n",
              "</div>\n",
              "\n",
              "</div>"
            ],
            "text/plain": [
              "<IPython.core.display.Markdown object>"
            ]
          },
          "metadata": {},
          "output_type": "display_data"
        },
        {
          "data": {
            "text/markdown": [
              "# Problem #3 (6 Points)\n",
              "## Alvin Kamara has a mass of $97.1 \\mathrm{kg}$ and ran $36.6 \\mathrm{m}$, accelerating to a speed of $8.02 \\frac{\\mathrm{m}}{\\mathrm{s}}$.\n",
              "\n",
              "\n",
              "<div class='question'>Question 1 (3 Points)\n",
              "\n",
              "Determine Alvin's acceleration.\n",
              "\n",
              "\n",
              "<div style=\"\n",
              "    border: 2px solid black;\n",
              "    width: 100%;\n",
              "    box-sizing: border-box;\n",
              "    line-height: 1em;\n",
              "    height: calc(1em * 10);\n",
              "    page-break-inside: avoid;\">\n",
              "    <!-- Content goes here -->\n",
              "</div>\n",
              "\n",
              "</div>\n",
              "\n",
              "<div class='question'>Question 2 (3 Points)\n",
              "\n",
              "Determine Alvin's time in the $36.6 \\mathrm{m}$ dash.\n",
              "\n",
              "\n",
              "<div style=\"\n",
              "    border: 2px solid black;\n",
              "    width: 100%;\n",
              "    box-sizing: border-box;\n",
              "    line-height: 1em;\n",
              "    height: calc(1em * 10);\n",
              "    page-break-inside: avoid;\">\n",
              "    <!-- Content goes here -->\n",
              "</div>\n",
              "\n",
              "</div>"
            ],
            "text/plain": [
              "<IPython.core.display.Markdown object>"
            ]
          },
          "metadata": {},
          "output_type": "display_data"
        }
      ],
      "source": [
        "for problem in problems:\n",
        "    nbprint(problem)"
      ]
    },
    {
      "cell_type": "code",
      "execution_count": 11,
      "metadata": {
        "id": "MDWXGyWiCspS"
      },
      "outputs": [],
      "source": [
        "# print(\"*\"*80)\n",
        "\n",
        "# v_0_x = v_i * np.cos(np.pi * theta_i / 180)\n",
        "# v_0_y = v_i * np.sin(np.pi * theta_i / 180)\n",
        "\n",
        "# print(f\"The initial velocity of the stone is {sf(v_0_x)}m/s in the x direction and {sf(v_0_y)}m/s in the y direction.\")\n",
        "\n",
        "# print(\"*\"*80)\n",
        "\n",
        "# t = x_f / v_0_x\n",
        "# print(f\"The time taken for the stone to hit the wall is {sf(t)}s.\")\n",
        "\n",
        "# print(\"*\"*80)\n",
        "# y = v_0_y * t - 0.5 * 9.81 * t**2\n",
        "# print(f\"The height of the stone when it hits the wall is {sf(y)}m.\")\n",
        "\n",
        "# print(\"*\"*80)\n"
      ]
    },
    {
      "cell_type": "markdown",
      "metadata": {},
      "source": []
    }
  ],
  "metadata": {
    "colab": {
      "provenance": []
    },
    "kernelspec": {
      "display_name": "Python 3",
      "name": "python3"
    },
    "language_info": {
      "codemirror_mode": {
        "name": "ipython",
        "version": 3
      },
      "file_extension": ".py",
      "mimetype": "text/x-python",
      "name": "python",
      "nbconvert_exporter": "python",
      "pygments_lexer": "ipython3",
      "version": "3.12.4"
    }
  },
  "nbformat": 4,
  "nbformat_minor": 0
}
