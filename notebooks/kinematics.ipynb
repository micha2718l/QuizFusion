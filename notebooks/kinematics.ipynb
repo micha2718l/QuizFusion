{
  "cells": [
    {
      "cell_type": "code",
      "execution_count": 1,
      "metadata": {
        "id": "wXCPia2cXnR5"
      },
      "outputs": [],
      "source": [
        "from utils import *"
      ]
    },
    {
      "cell_type": "code",
      "execution_count": 2,
      "metadata": {
        "colab": {
          "base_uri": "https://localhost:8080/",
          "height": 427
        },
        "id": "E14TWjn4sYhs",
        "outputId": "c9331d91-7116-4676-e8e7-900e91d1109a"
      },
      "outputs": [
        {
          "data": {
            "text/markdown": [
              "# Problem #1 (12 Points)\n",
              "## Joseph Fourier tosses a stone of mass of $0.430 \\mathrm{kg}$ with a speed of $26.8 \\mathrm{\\frac{m}{s}}$ at an angle of $18.3 ^\\circ$ degrees above the horizontal towards a wall that is $30.5 \\mathrm{m}$ away.\n",
              "### Question 1 (3 Points)\n",
              "Create and draw a well labeled diagram of the situation. Be sure to include all known and unknown quantities.\n",
              "\n",
              "<div style=\"\n",
              "    border: 2px solid black;\n",
              "    width: 100%;\n",
              "    box-sizing: border-box;\n",
              "    line-height: 1.5em;\n",
              "    height: calc(1.5em * 5);\">\n",
              "    <!-- Content goes here -->\n",
              "</div>\n",
              "\n",
              "### Question 2 (3 Points)\n",
              "Resolve the initial velocity into x and y components:\n",
              "\n",
              "<div style=\"\n",
              "    border: 2px solid black;\n",
              "    width: 100%;\n",
              "    box-sizing: border-box;\n",
              "    line-height: 1.5em;\n",
              "    height: calc(1.5em * 5);\">\n",
              "    <!-- Content goes here -->\n",
              "</div>\n",
              "\n",
              "### Question 3 (3 Points)\n",
              "What is the time taken for the stone to hit the wall?\n",
              "\n",
              "<div style=\"\n",
              "    border: 2px solid black;\n",
              "    width: 100%;\n",
              "    box-sizing: border-box;\n",
              "    line-height: 1.5em;\n",
              "    height: calc(1.5em * 5);\">\n",
              "    <!-- Content goes here -->\n",
              "</div>\n",
              "\n",
              "### Question 4 (3 Points)\n",
              "What is the height of the stone when it hits the wall?\n",
              "\n",
              "<div style=\"\n",
              "    border: 2px solid black;\n",
              "    width: 100%;\n",
              "    box-sizing: border-box;\n",
              "    line-height: 1.5em;\n",
              "    height: calc(1.5em * 5);\">\n",
              "    <!-- Content goes here -->\n",
              "</div>\n",
              "\n"
            ],
            "text/plain": [
              "<IPython.core.display.Markdown object>"
            ]
          },
          "metadata": {},
          "output_type": "display_data"
        }
      ],
      "source": [
        "v_i = 26.8\n",
        "theta_i = 18.3\n",
        "x_f = 30.5\n",
        "mass = 0.43\n",
        "\n",
        "\n",
        "statement = fr\"Joseph Fourier tosses a stone of mass of {wu(mass, 'kg')} with a speed of {wu(v_i, 'm/s')} at an angle of {wu(theta_i, 'degree')} degrees above the horizontal towards a wall that is {wu(x_f, 'm')} away.\"\n",
        "\n",
        "questions = [\n",
        "    Question(\"Create and draw a well labeled diagram of the situation. Be sure to include all known and unknown quantities.\", 3, 'medium'),\n",
        "    Question(\"Resolve the initial velocity into x and y components:\", 3, 'medium'),\n",
        "    Question(\"What is the time taken for the stone to hit the wall?\", 3, 'medium'),\n",
        "    Question(\"What is the height of the stone when it hits the wall?\", 3, 'medium'),\n",
        "]\n",
        "\n",
        "problem = Problem(statement, questions)\n",
        "\n",
        "nbprint(problem)\n"
      ]
    },
    {
      "cell_type": "code",
      "execution_count": 3,
      "metadata": {
        "colab": {
          "base_uri": "https://localhost:8080/",
          "height": 172
        },
        "id": "ZZnj96acs15t",
        "outputId": "b61a3f26-ad9f-4b83-a495-ac030b67345f"
      },
      "outputs": [
        {
          "data": {
            "text/markdown": [
              "# Problem #2 (3 Points)\n",
              "## Quinn accelerates at a rate of $2.45 \\mathrm{\\frac{blarks}{zoomer}}$?\n",
              "### Question 1 (3 Points)\n",
              "Determine Quinn's acceleration in ($\\mathrm{\\frac{m}{s}}$).\n",
              "\n",
              "<div style=\"\n",
              "    border: 2px solid black;\n",
              "    width: 100%;\n",
              "    box-sizing: border-box;\n",
              "    line-height: 1.5em;\n",
              "    height: calc(1.5em * 5);\">\n",
              "    <!-- Content goes here -->\n",
              "</div>\n",
              "\n"
            ],
            "text/plain": [
              "<IPython.core.display.Markdown object>"
            ]
          },
          "metadata": {},
          "output_type": "display_data"
        }
      ],
      "source": [
        "a = 2.45\n",
        "ypb = 0.592\n",
        "mpy = 0.9144\n",
        "hpz = 0.833\n",
        "\n",
        "\n",
        "statement = fr\"Quinn accelerates at a rate of {wu(a, 'blarks per zoomer')}?\"\n",
        "questions = [\n",
        "    Question(fr\"Determine Quinn's acceleration in (${units('m/s')}$).\", 3, 'medium'),\n",
        "]\n",
        "extra = fr\"{wu(1, 'blark')} $=$ {wu(ypb, 'yard')}; {wu(1, 'yard')} $=$ {wu(mpy, 'm')}; {wu(1, 'zoomer')} $=$ {wu(hpz, 'hr')}\"\n",
        "\n",
        "problem = Problem(statement=statement, questions=questions, number=2, extra=extra)\n",
        "\n",
        "nbprint(problem)"
      ]
    },
    {
      "cell_type": "code",
      "execution_count": 4,
      "metadata": {
        "id": "MDWXGyWiCspS"
      },
      "outputs": [
        {
          "name": "stdout",
          "output_type": "stream",
          "text": [
            "********************************************************************************\n",
            "The initial velocity of the stone is 25.4m/s in the x direction and 8.41m/s in the y direction.\n",
            "********************************************************************************\n",
            "The time taken for the stone to hit the wall is 1.20s.\n",
            "********************************************************************************\n",
            "The height of the stone when it hits the wall is 3.04m.\n",
            "********************************************************************************\n"
          ]
        }
      ],
      "source": [
        "print(\"*\"*80)\n",
        "\n",
        "v_0_x = v_i * np.cos(np.pi * theta_i / 180)\n",
        "v_0_y = v_i * np.sin(np.pi * theta_i / 180)\n",
        "\n",
        "print(f\"The initial velocity of the stone is {sf(v_0_x)}m/s in the x direction and {sf(v_0_y)}m/s in the y direction.\")\n",
        "\n",
        "print(\"*\"*80)\n",
        "\n",
        "t = x_f / v_0_x\n",
        "print(f\"The time taken for the stone to hit the wall is {sf(t)}s.\")\n",
        "\n",
        "print(\"*\"*80)\n",
        "y = v_0_y * t - 0.5 * 9.81 * t**2\n",
        "print(f\"The height of the stone when it hits the wall is {sf(y)}m.\")\n",
        "\n",
        "print(\"*\"*80)"
      ]
    }
  ],
  "metadata": {
    "colab": {
      "provenance": []
    },
    "kernelspec": {
      "display_name": "Python 3",
      "name": "python3"
    },
    "language_info": {
      "codemirror_mode": {
        "name": "ipython",
        "version": 3
      },
      "file_extension": ".py",
      "mimetype": "text/x-python",
      "name": "python",
      "nbconvert_exporter": "python",
      "pygments_lexer": "ipython3",
      "version": "3.12.5"
    }
  },
  "nbformat": 4,
  "nbformat_minor": 0
}
